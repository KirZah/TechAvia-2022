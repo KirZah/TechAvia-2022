{
 "cells": [
  {
   "cell_type": "code",
   "execution_count": 13,
   "id": "834529b0",
   "metadata": {},
   "outputs": [],
   "source": [
    "# import the necessary modules\n",
    "import ipywidgets as widgets\n",
    "from IPython.display import display\n",
    "import functools\n"
   ]
  },
  {
   "cell_type": "code",
   "execution_count": 14,
   "id": "8f7d1ca5",
   "metadata": {},
   "outputs": [
    {
     "data": {
      "application/vnd.jupyter.widget-view+json": {
       "model_id": "9b81be263fdb4b6a8e23be43ffb26a9f",
       "version_major": 2,
       "version_minor": 0
      },
      "text/plain": [
       "FileUpload(value={}, description='Upload')"
      ]
     },
     "metadata": {},
     "output_type": "display_data"
    }
   ],
   "source": [
    "# \n",
    "input_files = widgets.FileUpload(\n",
    "    accept='',  # Accepted file extension e.g. '.txt', '.pdf', 'image/*', 'image/*,.pdf'\n",
    "    multiple=False  # True to accept multiple files upload else False\n",
    ")\n",
    "display(input_files)"
   ]
  },
  {
   "cell_type": "code",
   "execution_count": 15,
   "id": "9631cae0",
   "metadata": {
    "scrolled": true
   },
   "outputs": [
    {
     "data": {
      "application/vnd.jupyter.widget-view+json": {
       "model_id": "6896b0dfcc374858971fc85342bd4385",
       "version_major": 2,
       "version_minor": 0
      },
      "text/plain": [
       "Button(description='Show input image', style=ButtonStyle())"
      ]
     },
     "metadata": {},
     "output_type": "display_data"
    },
    {
     "data": {
      "application/vnd.jupyter.widget-view+json": {
       "model_id": "7c9bd70afa5e4d698e458d1613a9a3c6",
       "version_major": 2,
       "version_minor": 0
      },
      "text/plain": [
       "Output()"
      ]
     },
     "metadata": {},
     "output_type": "display_data"
    }
   ],
   "source": [
    "show_img_button = widgets.Button(description=\"Show input image\")\n",
    "output1 = widgets.Output()\n",
    "display(show_img_button, output1)\n",
    "\n",
    "@output1.capture(clear_output=True, wait=True)\n",
    "def on_show_img_button_clicked(b):\n",
    "    with output1:\n",
    "        display(widgets.Image(value=input_files.value[list(input_files.value.keys())[-1]]['content']))\n",
    "\n",
    "show_img_button.on_click(on_show_img_button_clicked)\n"
   ]
  },
  {
   "cell_type": "code",
   "execution_count": 16,
   "id": "d1b7203b",
   "metadata": {},
   "outputs": [
    {
     "data": {
      "application/vnd.jupyter.widget-view+json": {
       "model_id": "baaeec8da4ee4ad68dadea5da9f12922",
       "version_major": 2,
       "version_minor": 0
      },
      "text/plain": [
       "Button(description='Predict', style=ButtonStyle())"
      ]
     },
     "metadata": {},
     "output_type": "display_data"
    },
    {
     "data": {
      "application/vnd.jupyter.widget-view+json": {
       "model_id": "4b7c9adb951f4bc5a204c939c3e2bb36",
       "version_major": 2,
       "version_minor": 0
      },
      "text/plain": [
       "Output()"
      ]
     },
     "metadata": {},
     "output_type": "display_data"
    }
   ],
   "source": [
    "button = widgets.Button(description=\"Predict\")\n",
    "output2 = widgets.Output()\n",
    "display(button, output2)\n",
    "\n",
    "@output2.capture(clear_output=True, wait=True)\n",
    "def on_button_clicked(b):\n",
    "    with output2:\n",
    "        print(\"Что-то делаем с картинкой\")\n",
    "\n",
    "button.on_click(on_button_clicked)"
   ]
  },
  {
   "cell_type": "code",
   "execution_count": null,
   "id": "2b28dd7d",
   "metadata": {},
   "outputs": [],
   "source": []
  },
  {
   "cell_type": "code",
   "execution_count": null,
   "id": "0e8e8277",
   "metadata": {},
   "outputs": [],
   "source": []
  }
 ],
 "metadata": {
  "kernelspec": {
   "display_name": "Python 3",
   "language": "python",
   "name": "python3"
  },
  "language_info": {
   "codemirror_mode": {
    "name": "ipython",
    "version": 3
   },
   "file_extension": ".py",
   "mimetype": "text/x-python",
   "name": "python",
   "nbconvert_exporter": "python",
   "pygments_lexer": "ipython3",
   "version": "3.8.8"
  }
 },
 "nbformat": 4,
 "nbformat_minor": 5
}
